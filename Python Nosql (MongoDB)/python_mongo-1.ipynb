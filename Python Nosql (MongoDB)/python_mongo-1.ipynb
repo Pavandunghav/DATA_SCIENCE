{
 "cells": [
  {
   "cell_type": "markdown",
   "metadata": {},
   "source": [
    "The exploration of Nosql databses MongoDB in Python.\n"
   ]
  },
  {
   "cell_type": "code",
   "execution_count": 1,
   "metadata": {},
   "outputs": [],
   "source": [
    "###Building the connection with the database\n",
    "\n",
    "\n",
    "\n",
    "from pymongo import MongoClient\n",
    "client=MongoClient(\"localhost\",27017)\n"
   ]
  },
  {
   "cell_type": "code",
   "execution_count": 2,
   "metadata": {},
   "outputs": [],
   "source": [
    "###creating the database\n",
    "\n",
    "db1=client[\"py_database-1\"]   ###creating and storing in the variable db1 for future uses \n",
    "\n",
    "\n",
    "##or method 2\n",
    "\n",
    "\n",
    "db2=client.py_database_2\n",
    "\n"
   ]
  },
  {
   "cell_type": "code",
   "execution_count": 3,
   "metadata": {},
   "outputs": [],
   "source": [
    "###creating the collection \n",
    "\n",
    "coll =db1.coll1  ##this is  collection name   .The variables are use to store the collection and database name and they can commit to database \n",
    "\n",
    "\n",
    "\n",
    "\n"
   ]
  },
  {
   "cell_type": "code",
   "execution_count": 4,
   "metadata": {},
   "outputs": [],
   "source": [
    "### as the data in mongoDB is store in the from of dictionary so we can create the  dictionary \n",
    "\n",
    "\n",
    "\n",
    "dict1={\"name\":\"Pavan\",\"age\":23,\"city\":\"Bangalore\"}\n",
    "\n",
    "dict2={\"name\":\"Rahul\",\"age\":24,\"city\":\"Bangalore\"}\n",
    "\n",
    "dict3={\"name\":\"Raj\",\"age\":25,\"city\":\"Bangalore\"}\n",
    "\n",
    "dict4={\"name\":\"Ravi\",\"age\":26,\"city\":\"Bangalore\"}\n",
    "\n",
    "\n",
    "dict5={\"abhi\":\"avi\",\"age\":32,\"city\":\"pune\"}\n",
    "    \n",
    "    \n",
    "    \n"
   ]
  },
  {
   "cell_type": "code",
   "execution_count": 5,
   "metadata": {},
   "outputs": [
    {
     "data": {
      "text/plain": [
       "InsertOneResult(ObjectId('658bfb36d2d05d633f8ab12e'), acknowledged=True)"
      ]
     },
     "execution_count": 5,
     "metadata": {},
     "output_type": "execute_result"
    }
   ],
   "source": [
    "##now lets insert the data into the collection \n",
    "\n",
    "coll.db1.insert_one(dict1)  ##this will insert the data into the collection"
   ]
  },
  {
   "cell_type": "code",
   "execution_count": 6,
   "metadata": {},
   "outputs": [
    {
     "data": {
      "text/plain": [
       "InsertManyResult([ObjectId('658bfb36d2d05d633f8ab12f'), ObjectId('658bfb36d2d05d633f8ab130'), ObjectId('658bfb36d2d05d633f8ab131'), ObjectId('658bfb36d2d05d633f8ab132')], acknowledged=True)"
      ]
     },
     "execution_count": 6,
     "metadata": {},
     "output_type": "execute_result"
    }
   ],
   "source": [
    "coll.db1.insert_many([dict4,dict2,dict3,dict5])  ##this will insert the multiple data into the collection"
   ]
  },
  {
   "cell_type": "code",
   "execution_count": 7,
   "metadata": {},
   "outputs": [
    {
     "name": "stdout",
     "output_type": "stream",
     "text": [
      "{'_id': ObjectId('658be957ddb6e8d98fb864a7'), 'name': 'Pavan', 'age': 23, 'city': 'Bangalore'}\n",
      "{'_id': ObjectId('658bf662ddb6e8d98fb864a9'), 'name': 'Pavan', 'age': 23, 'city': 'Bangalore'}\n",
      "{'_id': ObjectId('658bf66eddb6e8d98fb864ab'), 'name': 'Pavan', 'age': 23, 'city': 'Bangalore'}\n",
      "{'_id': ObjectId('658bf66eddb6e8d98fb864ac'), 'name': 'Ravi', 'age': 26, 'city': 'Bangalore'}\n",
      "{'_id': ObjectId('658bf66eddb6e8d98fb864ad'), 'name': 'Rahul', 'age': 24, 'city': 'Bangalore'}\n",
      "{'_id': ObjectId('658bf66eddb6e8d98fb864ae'), 'name': 'Raj', 'age': 25, 'city': 'Bangalore'}\n",
      "{'_id': ObjectId('658bf66eddb6e8d98fb864af'), 'abhi': 'avi', 'age': 32, 'city': 'pune'}\n",
      "{'_id': ObjectId('658bfb36d2d05d633f8ab12e'), 'name': 'Pavan', 'age': 23, 'city': 'Bangalore'}\n",
      "{'_id': ObjectId('658bfb36d2d05d633f8ab12f'), 'name': 'Ravi', 'age': 26, 'city': 'Bangalore'}\n",
      "{'_id': ObjectId('658bfb36d2d05d633f8ab130'), 'name': 'Rahul', 'age': 24, 'city': 'Bangalore'}\n",
      "{'_id': ObjectId('658bfb36d2d05d633f8ab131'), 'name': 'Raj', 'age': 25, 'city': 'Bangalore'}\n",
      "{'_id': ObjectId('658bfb36d2d05d633f8ab132'), 'abhi': 'avi', 'age': 32, 'city': 'pune'}\n"
     ]
    }
   ],
   "source": [
    "for i in (coll.db1.find()):\n",
    "    print(i)"
   ]
  },
  {
   "cell_type": "code",
   "execution_count": 8,
   "metadata": {},
   "outputs": [
    {
     "name": "stdout",
     "output_type": "stream",
     "text": [
      "{'_id': ObjectId('658be957ddb6e8d98fb864a7'), 'name': 'Pavan', 'age': 23, 'city': 'Bangalore'}\n",
      "{'_id': ObjectId('658bf662ddb6e8d98fb864a9'), 'name': 'Pavan', 'age': 23, 'city': 'Bangalore'}\n",
      "{'_id': ObjectId('658bf66eddb6e8d98fb864ab'), 'name': 'Pavan', 'age': 23, 'city': 'Bangalore'}\n",
      "{'_id': ObjectId('658bfb36d2d05d633f8ab12e'), 'name': 'Pavan', 'age': 23, 'city': 'Bangalore'}\n"
     ]
    }
   ],
   "source": [
    "for i in (coll.db1.find({\"name\":\"Pavan\"})):\n",
    "    \n",
    "    print(i)"
   ]
  },
  {
   "cell_type": "code",
   "execution_count": 9,
   "metadata": {},
   "outputs": [
    {
     "data": {
      "text/plain": [
       "UpdateResult({'n': 0, 'nModified': 0, 'ok': 1.0, 'updatedExisting': False}, acknowledged=True)"
      ]
     },
     "execution_count": 9,
     "metadata": {},
     "output_type": "execute_result"
    }
   ],
   "source": [
    "###updating the values in the collection \n",
    "\n",
    "query={\"name\":\"pavan\"}\n",
    "\n",
    "update_query1={\"$set\":{\"age\":50}}\n",
    "\n",
    "coll.db1.update_one(query,update_query1)\n"
   ]
  },
  {
   "cell_type": "code",
   "execution_count": 11,
   "metadata": {},
   "outputs": [],
   "source": [
    "# for i in (coll.db1.aggregate([{\"$group\":{\"name\"}}])):\n",
    "#     print(i)                                                                                                                                                                                                                                                                                                                                                                                                   "
   ]
  }
 ],
 "metadata": {
  "kernelspec": {
   "display_name": "Python 3",
   "language": "python",
   "name": "python3"
  },
  "language_info": {
   "codemirror_mode": {
    "name": "ipython",
    "version": 3
   },
   "file_extension": ".py",
   "mimetype": "text/x-python",
   "name": "python",
   "nbconvert_exporter": "python",
   "pygments_lexer": "ipython3",
   "version": "3.10.1"
  }
 },
 "nbformat": 4,
 "nbformat_minor": 2
}
